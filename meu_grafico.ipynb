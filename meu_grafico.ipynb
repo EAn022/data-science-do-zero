{
 "cells": [
  {
   "cell_type": "code",
   "execution_count": null,
   "id": "e753851a",
   "metadata": {},
   "outputs": [],
   "source": [
    "from matplotlib import pyplot as plt\n",
    "\n",
    "x = [1991,1992,1993,1994]\n",
    "y = ['1', 'aaaaaaaaaaa', '3', '4']\n",
    "\n",
    "plt.plot(x,y,color='pink',marker='4',linestyle='solid' )\n",
    "plt.title(\"ovocelente\")\n",
    "plt.ylabel(\"ovaldo\")\n",
    "plt.show()"
   ]
  },
  {
   "cell_type": "code",
   "execution_count": null,
   "id": "1d2e2ebb",
   "metadata": {},
   "outputs": [],
   "source": [
    "from matplotlib import pyplot as plt\n",
    "\n",
    "movies = [\"Filme A\", \"Filme B\", \"Filme C\"]\n",
    "num_oscars = [5, 2, 9]\n",
    "\n",
    "plt.bar(range(len(movies)), num_oscars)\n",
    "plt.xticks(range(len(movies)), movies)\n",
    "plt.show()"
   ]
  },
  {
   "cell_type": "code",
   "execution_count": null,
   "id": "2a3a439c",
   "metadata": {},
   "outputs": [],
   "source": [
    "from collections import Counter\n",
    "from matplotlib import pyplot as plt\n",
    "\n",
    "grades = [83, 95, 91, 87, 70, 0, 85, 82, 100, 67, 73, 77, 0]\n",
    "histogram = Counter(min(grade // 10 * 10, 90) for grade in grades)\n",
    "\n",
    "plt.bar(\n",
    "    histogram.keys(),   # move as barras para o centro da faixa\n",
    "    histogram.values(), # altura = quantidade de alunos\n",
    "    8,                   # Largura das barras\n",
    "    align='edge'\n",
    ")\n",
    "plt.xticks([10 * i for i in range(10)])\n",
    "plt.yticks([i for i in range(5)])\n",
    "plt.show()"
   ]
  },
  {
   "cell_type": "code",
   "execution_count": null,
   "id": "15373c61",
   "metadata": {},
   "outputs": [],
   "source": [
    "mentions = [500, 505]\n",
    "years = [2017, 2018]\n",
    "plt.bar(years, mentions, 0.8) \n",
    "plt.xticks(years)\n",
    "# plt.ticklabel_format(useOffset=False)\n",
    "plt.axis([2016, 2019, 0, 506])\n",
    "plt.show()\n"
   ]
  },
  {
   "cell_type": "code",
   "execution_count": null,
   "id": "435fc26b",
   "metadata": {},
   "outputs": [],
   "source": [
    "from matplotlib import pyplot as plt\n",
    "\n",
    "variance = [1, 2, 4, 8, 16, 32, 64, 128, 256]\n",
    "bias_squared = [256, 128, 64, 32, 16, 8, 4, 2, 1]\n",
    "\n",
    "total_error = [x + y for x, y in zip(variance, bias_squared)] \n",
    "\n",
    "xs = [i for i, _ in enumerate(variance)] \n",
    "\n",
    "plt.plot(xs, variance, 'g-', label='variance') \n",
    "plt.plot(xs, bias_squared, 'r-.', label='bias^2') \n",
    "plt.plot(xs, total_error, 'b:', label='total error') \n",
    "\n",
    "plt.legend(loc=9)\n",
    "\n",
    "plt.show()"
   ]
  },
  {
   "cell_type": "code",
   "execution_count": null,
   "id": "bfa9903b",
   "metadata": {},
   "outputs": [],
   "source": [
    "q = [1, 2, 4, 8, 16, 32, 64, 128, 256]\n",
    "w = [256, 128, 64, 32, 16, 8, 4, 2, 1]\n",
    "e = [1, 2, 4, 8, 16, 32, 64, 128, 256]\n",
    "\n",
    "for i in zip(q,w,e): print(i)"
   ]
  },
  {
   "cell_type": "code",
   "execution_count": 11,
   "id": "8560e4d3",
   "metadata": {},
   "outputs": [
    {
     "data": {
      "image/png": "[encoded data removed]",
      "text/plain": [
       "<Figure size 640x480 with 1 Axes>"
      ]
     },
     "metadata": {},
     "output_type": "display_data"
    }
   ],
   "source": [
    "friends = [70, 65, 72, 63, 71, 64, 60, 64, 67]\n",
    "minutes = [175, 170, 205, 120, 220, 130, 105, 145, 190]\n",
    "labels = ['a', 'b', 'c', 'd', 'e', 'f', 'g', 'h', 'i']\n",
    "\n",
    "plt.scatter(friends, minutes)\n",
    "\n",
    "for label, friend_count, minute_count in zip(labels, friends, minutes):\n",
    "    plt.annotate(\n",
    "        label,\n",
    "        xy=(friend_count, minute_count), \n",
    "        xytext=(5, 0),                   \n",
    "        textcoords='offset points'        \n",
    "    )\n",
    "\n",
    "# plt.axis('equal')\n",
    "plt.show()"
   ]
  }
 ],
 "metadata": {
  "kernelspec": {
   "display_name": "Python 3",
   "language": "python",
   "name": "python3"
  },
  "language_info": {
   "codemirror_mode": {
    "name": "ipython",
    "version": 3
   },
   "file_extension": ".py",
   "mimetype": "text/x-python",
   "name": "python",
   "nbconvert_exporter": "python",
   "pygments_lexer": "ipython3",
   "version": "3.12.1"
  }
 },
 "nbformat": 4,
 "nbformat_minor": 5
}
